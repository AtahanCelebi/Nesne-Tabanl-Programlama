{
 "cells": [
  {
   "cell_type": "markdown",
   "metadata": {},
   "source": [
    "# Nesne Tabanlı Programlamaya Giriş"
   ]
  },
  {
   "cell_type": "raw",
   "metadata": {},
   "source": [
    "class <class ismi>():\n",
    "    self.<instance attribute> = attribute   #Class attribute\n",
    "    def __init__(self,<attributes>):\n",
    "        self.<instance attribute> = attribute  #Object attribute\n",
    "        ...\n",
    "        \n",
    "    def <methods>(self,<parameters>):     \n",
    "        ...\n",
    "        return ..."
   ]
  },
  {
   "cell_type": "markdown",
   "metadata": {},
   "source": [
    "## Class Yapısı\n"
   ]
  },
  {
   "cell_type": "code",
   "execution_count": 1,
   "metadata": {},
   "outputs": [],
   "source": [
    "class Calisan():\n",
    "    sirket=\"ABC Plaza\""
   ]
  },
  {
   "cell_type": "code",
   "execution_count": 2,
   "metadata": {},
   "outputs": [],
   "source": [
    "personel = Calisan()"
   ]
  },
  {
   "cell_type": "code",
   "execution_count": 3,
   "metadata": {},
   "outputs": [
    {
     "data": {
      "text/plain": [
       "'ABC Plaza'"
      ]
     },
     "execution_count": 3,
     "metadata": {},
     "output_type": "execute_result"
    }
   ],
   "source": [
    "personel.sirket"
   ]
  },
  {
   "cell_type": "code",
   "execution_count": 5,
   "metadata": {},
   "outputs": [],
   "source": [
    "class Calisan():\n",
    "    sirket=\"ABC Plaza\"\n",
    "    def __init__(self,isim,maas,unvan):\n",
    "        self.isim = isim\n",
    "        self.maas = maas\n",
    "        self.unvan = unvan"
   ]
  },
  {
   "cell_type": "code",
   "execution_count": 7,
   "metadata": {},
   "outputs": [],
   "source": [
    "personel = Calisan(\"ata\",5000,\"yazılımcı\")"
   ]
  },
  {
   "cell_type": "code",
   "execution_count": 8,
   "metadata": {},
   "outputs": [
    {
     "data": {
      "text/plain": [
       "'ata'"
      ]
     },
     "execution_count": 8,
     "metadata": {},
     "output_type": "execute_result"
    }
   ],
   "source": [
    "personel.isim"
   ]
  },
  {
   "cell_type": "code",
   "execution_count": 9,
   "metadata": {},
   "outputs": [
    {
     "data": {
      "text/plain": [
       "5000"
      ]
     },
     "execution_count": 9,
     "metadata": {},
     "output_type": "execute_result"
    }
   ],
   "source": [
    "personel.maas"
   ]
  },
  {
   "cell_type": "code",
   "execution_count": 10,
   "metadata": {},
   "outputs": [],
   "source": [
    "personel2 = Calisan(\"melih\",3000,\"güvenlik\")"
   ]
  },
  {
   "cell_type": "code",
   "execution_count": 11,
   "metadata": {},
   "outputs": [
    {
     "data": {
      "text/plain": [
       "'melih'"
      ]
     },
     "execution_count": 11,
     "metadata": {},
     "output_type": "execute_result"
    }
   ],
   "source": [
    "personel2.isim"
   ]
  },
  {
   "cell_type": "code",
   "execution_count": 16,
   "metadata": {},
   "outputs": [],
   "source": [
    "class Calisan():\n",
    "    sirket=\"ABC Plaza\"\n",
    "    def __init__(self,isim,maas,unvan):\n",
    "        self.isim = isim\n",
    "        self.maas = maas\n",
    "        self.unvan = unvan\n",
    "    def bilgileri_sorgula(self):\n",
    "        return (\"Adım %s, maaşım %s ve %s olarak çalışıyorum\"%(self.isim,self.maas,self.unvan))"
   ]
  },
  {
   "cell_type": "code",
   "execution_count": 17,
   "metadata": {},
   "outputs": [],
   "source": [
    "personel = Calisan(\"ata\",5000,\"yazılımcı\")"
   ]
  },
  {
   "cell_type": "code",
   "execution_count": 18,
   "metadata": {},
   "outputs": [
    {
     "data": {
      "text/plain": [
       "'Adım ata, maaşım 5000 ve yazılımcı olarak çalışıyorum'"
      ]
     },
     "execution_count": 18,
     "metadata": {},
     "output_type": "execute_result"
    }
   ],
   "source": [
    "personel.bilgileri_sorgula()"
   ]
  },
  {
   "cell_type": "code",
   "execution_count": 19,
   "metadata": {},
   "outputs": [],
   "source": [
    "personel3 = Calisan(\"sena\",7000,\"ögretmen\")"
   ]
  },
  {
   "cell_type": "code",
   "execution_count": 21,
   "metadata": {},
   "outputs": [
    {
     "data": {
      "text/plain": [
       "'Adım sena, maaşım 7000 ve ögretmen olarak çalışıyorum'"
      ]
     },
     "execution_count": 21,
     "metadata": {},
     "output_type": "execute_result"
    }
   ],
   "source": [
    "personel3.bilgileri_sorgula()"
   ]
  },
  {
   "cell_type": "markdown",
   "metadata": {},
   "source": [
    "## Özel Fonksiyonlar (Double Underscore Methods)\n",
    "\n"
   ]
  },
  {
   "cell_type": "code",
   "execution_count": 22,
   "metadata": {},
   "outputs": [
    {
     "data": {
      "text/plain": [
       "['isim',\n",
       " 'maas',\n",
       " 'unvan',\n",
       " '__module__',\n",
       " 'sirket',\n",
       " '__init__',\n",
       " 'bilgileri_sorgula',\n",
       " '__dict__',\n",
       " '__weakref__',\n",
       " '__doc__',\n",
       " '__repr__',\n",
       " '__hash__',\n",
       " '__str__',\n",
       " '__getattribute__',\n",
       " '__setattr__',\n",
       " '__delattr__',\n",
       " '__lt__',\n",
       " '__le__',\n",
       " '__eq__',\n",
       " '__ne__',\n",
       " '__gt__',\n",
       " '__ge__',\n",
       " '__new__',\n",
       " '__reduce_ex__',\n",
       " '__reduce__',\n",
       " '__subclasshook__',\n",
       " '__init_subclass__',\n",
       " '__format__',\n",
       " '__sizeof__',\n",
       " '__dir__',\n",
       " '__class__']"
      ]
     },
     "execution_count": 22,
     "metadata": {},
     "output_type": "execute_result"
    }
   ],
   "source": [
    "personel3.__dir__()"
   ]
  },
  {
   "cell_type": "code",
   "execution_count": 23,
   "metadata": {},
   "outputs": [
    {
     "data": {
      "text/plain": [
       "<__main__.Calisan at 0x18059bc8b08>"
      ]
     },
     "execution_count": 23,
     "metadata": {},
     "output_type": "execute_result"
    }
   ],
   "source": [
    "personel3"
   ]
  },
  {
   "cell_type": "code",
   "execution_count": 68,
   "metadata": {},
   "outputs": [],
   "source": [
    "class Calisan():\n",
    "    sirket=\"ABC Plaza\"\n",
    "    def __init__(self,isim,maas,unvan):\n",
    "        self.isim = isim\n",
    "        self.maas = maas\n",
    "        self.unvan = unvan\n",
    "    def bilgileri_sorgula(self):\n",
    "        return (\"Adım %s, maaşım %s ve %s olarak çalışıyorum\"%(self.isim,self.maas,self.unvan))\n",
    "    \n",
    "    def __repr__(self):\n",
    "        return (\"AD:{} \\nMaaş:{} \\nUnvan: {}\".format(self.isim,self.maas,self.unvan))"
   ]
  },
  {
   "cell_type": "code",
   "execution_count": 69,
   "metadata": {},
   "outputs": [],
   "source": [
    "personel3 = Calisan(\"sena\",7000,\"ögretmen\")"
   ]
  },
  {
   "cell_type": "code",
   "execution_count": 70,
   "metadata": {},
   "outputs": [
    {
     "data": {
      "text/plain": [
       "AD:sena \n",
       "Maaş:7000 \n",
       "Unvan: ögretmen"
      ]
     },
     "execution_count": 70,
     "metadata": {},
     "output_type": "execute_result"
    }
   ],
   "source": [
    "personel3"
   ]
  },
  {
   "cell_type": "markdown",
   "metadata": {},
   "source": [
    "# Inheritance (Kalıtım)"
   ]
  },
  {
   "cell_type": "code",
   "execution_count": 71,
   "metadata": {},
   "outputs": [],
   "source": [
    "class Mudur(Calisan):\n",
    "    pass"
   ]
  },
  {
   "cell_type": "code",
   "execution_count": 72,
   "metadata": {},
   "outputs": [],
   "source": [
    "yonetici = Mudur(\"sefa\",10000,\"Müdür\")"
   ]
  },
  {
   "cell_type": "code",
   "execution_count": 73,
   "metadata": {},
   "outputs": [
    {
     "data": {
      "text/plain": [
       "'sefa'"
      ]
     },
     "execution_count": 73,
     "metadata": {},
     "output_type": "execute_result"
    }
   ],
   "source": [
    "yonetici.isim"
   ]
  },
  {
   "cell_type": "code",
   "execution_count": 74,
   "metadata": {},
   "outputs": [
    {
     "data": {
      "text/plain": [
       "AD:sefa \n",
       "Maaş:10000 \n",
       "Unvan: Müdür"
      ]
     },
     "execution_count": 74,
     "metadata": {},
     "output_type": "execute_result"
    }
   ],
   "source": [
    "yonetici"
   ]
  },
  {
   "cell_type": "code",
   "execution_count": 75,
   "metadata": {},
   "outputs": [],
   "source": [
    "class Mudur(Calisan):\n",
    "    def __init__(self,isim,maas,unvan,kisi_sayisi):\n",
    "        self.isim =isim #override\n",
    "        self.maas= maas\n",
    "        self.unvan = unvan\n",
    "        self.kisi_sayisi= kisi_sayisi"
   ]
  },
  {
   "cell_type": "code",
   "execution_count": 76,
   "metadata": {},
   "outputs": [],
   "source": [
    "class Mudur(Calisan):\n",
    "    def __init__(self,isim,maas,unvan,kisi_sayisi):\n",
    "        super().__init__(isim,maas,unvan)\n",
    "        self.kisi_sayisi= kisi_sayisi"
   ]
  },
  {
   "cell_type": "code",
   "execution_count": 77,
   "metadata": {},
   "outputs": [],
   "source": [
    "yonetici = Mudur(\"sefa\",10000,\"Müdür\",15)"
   ]
  },
  {
   "cell_type": "code",
   "execution_count": 78,
   "metadata": {},
   "outputs": [
    {
     "data": {
      "text/plain": [
       "AD:sefa \n",
       "Maaş:10000 \n",
       "Unvan: Müdür"
      ]
     },
     "execution_count": 78,
     "metadata": {},
     "output_type": "execute_result"
    }
   ],
   "source": [
    "yonetici"
   ]
  },
  {
   "cell_type": "markdown",
   "metadata": {},
   "source": [
    "## Encapsulation (Kapsülleme)"
   ]
  },
  {
   "cell_type": "code",
   "execution_count": 97,
   "metadata": {},
   "outputs": [],
   "source": []
  },
  {
   "cell_type": "code",
   "execution_count": 146,
   "metadata": {},
   "outputs": [],
   "source": [
    "class Calisan():\n",
    "    sirket=\"ABC Plaza\"\n",
    "    def __init__(self,isim,maas,unvan):\n",
    "        self.isim = isim\n",
    "        self._maas = maas\n",
    "        self.unvan = unvan\n",
    "    def bilgileri_sorgula(self):\n",
    "        return (\"Adım %s, maaşım %s ve %s olarak çalışıyorum\"%(self.isim,self._maas,self.unvan))\n",
    "    \n",
    "    def __repr__(self):\n",
    "        return (\"AD:{} \\nMaaş:{} \\nUnvan: {}\".format(self.isim,self._maas,self.unvan))\n",
    "    def getMaas(self):\n",
    "        return (\"Maaşım %s kadar\"%(self._maas))\n",
    "    def setMaas(self,yeni_maas):\n",
    "        if self._maas >= 5000: #TL\n",
    "            self._maas = yeni_maas\n",
    "        else:\n",
    "            raise KeyError"
   ]
  },
  {
   "cell_type": "code",
   "execution_count": 147,
   "metadata": {},
   "outputs": [],
   "source": [
    "class Mudur(Calisan):\n",
    "    def __init__(self,isim,maas,unvan,kisi_sayisi):\n",
    "        super().__init__(isim,maas,unvan)\n",
    "        self.kisi_sayisi= kisi_sayisi\n",
    "    def __repr__(self):\n",
    "        return (\"AD:{} \\nMaaş:{} \\nUnvan: {}\\nKisiSayısı: {}\".format(self.isim,self.maas,self.unvan,self.kisi_sayisi))\n",
    "    \n",
    "    def zam_yap(self,miktar):\n",
    "        self._maas += miktar #self.maas = self.maas  + miktar"
   ]
  },
  {
   "cell_type": "code",
   "execution_count": 136,
   "metadata": {},
   "outputs": [],
   "source": [
    "yonetici = Mudur(\"sefa\",10000,\"Müdür\",15)"
   ]
  },
  {
   "cell_type": "code",
   "execution_count": 137,
   "metadata": {},
   "outputs": [
    {
     "ename": "AttributeError",
     "evalue": "'Mudur' object has no attribute 'maas'",
     "output_type": "error",
     "traceback": [
      "\u001b[1;31m---------------------------------------------------------------------------\u001b[0m",
      "\u001b[1;31mAttributeError\u001b[0m                            Traceback (most recent call last)",
      "\u001b[1;32m<ipython-input-137-8e37fb8a7dce>\u001b[0m in \u001b[0;36m<module>\u001b[1;34m\u001b[0m\n\u001b[1;32m----> 1\u001b[1;33m \u001b[0myonetici\u001b[0m\u001b[1;33m.\u001b[0m\u001b[0mmaas\u001b[0m\u001b[1;33m\u001b[0m\u001b[1;33m\u001b[0m\u001b[0m\n\u001b[0m",
      "\u001b[1;31mAttributeError\u001b[0m: 'Mudur' object has no attribute 'maas'"
     ]
    }
   ],
   "source": [
    "yonetici.maas"
   ]
  },
  {
   "cell_type": "code",
   "execution_count": 124,
   "metadata": {},
   "outputs": [
    {
     "data": {
      "text/plain": [
       "'Maaşım 10000 kadar'"
      ]
     },
     "execution_count": 124,
     "metadata": {},
     "output_type": "execute_result"
    }
   ],
   "source": [
    "yonetici.getMaas()"
   ]
  },
  {
   "cell_type": "code",
   "execution_count": 125,
   "metadata": {},
   "outputs": [],
   "source": [
    "yonetici.setMaas(11000)"
   ]
  },
  {
   "cell_type": "code",
   "execution_count": 127,
   "metadata": {},
   "outputs": [
    {
     "data": {
      "text/plain": [
       "'Maaşım 11000 kadar'"
      ]
     },
     "execution_count": 127,
     "metadata": {},
     "output_type": "execute_result"
    }
   ],
   "source": [
    "yonetici.getMaas()\n"
   ]
  },
  {
   "cell_type": "code",
   "execution_count": 148,
   "metadata": {},
   "outputs": [],
   "source": [
    "memur = Calisan(\"melih\",3000,\"güvenlik\")"
   ]
  },
  {
   "cell_type": "code",
   "execution_count": 149,
   "metadata": {},
   "outputs": [
    {
     "data": {
      "text/plain": [
       "'Maaşım 3000 kadar'"
      ]
     },
     "execution_count": 149,
     "metadata": {},
     "output_type": "execute_result"
    }
   ],
   "source": [
    "memur.getMaas()"
   ]
  },
  {
   "cell_type": "code",
   "execution_count": 151,
   "metadata": {},
   "outputs": [
    {
     "ename": "KeyError",
     "evalue": "",
     "output_type": "error",
     "traceback": [
      "\u001b[1;31m---------------------------------------------------------------------------\u001b[0m",
      "\u001b[1;31mKeyError\u001b[0m                                  Traceback (most recent call last)",
      "\u001b[1;32m<ipython-input-151-265114114c04>\u001b[0m in \u001b[0;36m<module>\u001b[1;34m\u001b[0m\n\u001b[1;32m----> 1\u001b[1;33m \u001b[0mmemur\u001b[0m\u001b[1;33m.\u001b[0m\u001b[0msetMaas\u001b[0m\u001b[1;33m(\u001b[0m\u001b[1;36m6000\u001b[0m\u001b[1;33m)\u001b[0m\u001b[1;33m\u001b[0m\u001b[1;33m\u001b[0m\u001b[0m\n\u001b[0m",
      "\u001b[1;32m<ipython-input-146-f4d04376e180>\u001b[0m in \u001b[0;36msetMaas\u001b[1;34m(self, yeni_maas)\u001b[0m\n\u001b[0;32m     16\u001b[0m             \u001b[0mself\u001b[0m\u001b[1;33m.\u001b[0m\u001b[0m_maas\u001b[0m \u001b[1;33m=\u001b[0m \u001b[0myeni_maas\u001b[0m\u001b[1;33m\u001b[0m\u001b[1;33m\u001b[0m\u001b[0m\n\u001b[0;32m     17\u001b[0m         \u001b[1;32melse\u001b[0m\u001b[1;33m:\u001b[0m\u001b[1;33m\u001b[0m\u001b[1;33m\u001b[0m\u001b[0m\n\u001b[1;32m---> 18\u001b[1;33m             \u001b[1;32mraise\u001b[0m \u001b[0mKeyError\u001b[0m\u001b[1;33m\u001b[0m\u001b[1;33m\u001b[0m\u001b[0m\n\u001b[0m",
      "\u001b[1;31mKeyError\u001b[0m: "
     ]
    }
   ],
   "source": [
    "memur.setMaas(6000)"
   ]
  },
  {
   "cell_type": "code",
   "execution_count": null,
   "metadata": {},
   "outputs": [],
   "source": []
  },
  {
   "cell_type": "code",
   "execution_count": null,
   "metadata": {},
   "outputs": [],
   "source": []
  },
  {
   "cell_type": "code",
   "execution_count": null,
   "metadata": {},
   "outputs": [],
   "source": []
  },
  {
   "cell_type": "code",
   "execution_count": null,
   "metadata": {},
   "outputs": [],
   "source": []
  },
  {
   "cell_type": "markdown",
   "metadata": {},
   "source": [
    "## Polymorphism (Çok Biçimlilik)"
   ]
  },
  {
   "cell_type": "code",
   "execution_count": 82,
   "metadata": {},
   "outputs": [],
   "source": [
    "class Mudur(Calisan):\n",
    "    def __init__(self,isim,maas,unvan,kisi_sayisi):\n",
    "        super().__init__(isim,maas,unvan)\n",
    "        self.kisi_sayisi= kisi_sayisi\n",
    "    def __repr__(self):\n",
    "        return (\"AD:{} \\nMaaş:{} \\nUnvan: {}\\nKisiSayısı: {}\".format(self.isim,self.maas,self.unvan,self.kisi_sayisi))"
   ]
  },
  {
   "cell_type": "code",
   "execution_count": 83,
   "metadata": {},
   "outputs": [],
   "source": [
    "yonetici = Mudur(\"sefa\",10000,\"Müdür\",15)"
   ]
  },
  {
   "cell_type": "code",
   "execution_count": 84,
   "metadata": {},
   "outputs": [
    {
     "data": {
      "text/plain": [
       "AD:sefa \n",
       "Maaş:10000 \n",
       "Unvan: Müdür\n",
       "KisiSayısı: 15"
      ]
     },
     "execution_count": 84,
     "metadata": {},
     "output_type": "execute_result"
    }
   ],
   "source": [
    "yonetici"
   ]
  },
  {
   "cell_type": "code",
   "execution_count": 85,
   "metadata": {},
   "outputs": [],
   "source": [
    "class Mudur(Calisan):\n",
    "    def __init__(self,isim,maas,unvan,kisi_sayisi):\n",
    "        super().__init__(isim,maas,unvan)\n",
    "        self.kisi_sayisi= kisi_sayisi\n",
    "    \n",
    "    def zam_yap(self,miktar):\n",
    "        self.maas += miktar #self.maas = self.maas  + miktar\n",
    "        \n",
    "    def __repr__(self): #OVERRİDİNG / Override\n",
    "        return (\"AD:{} \\nMaaş:{} \\nUnvan: {}\\nKisiSayısı: {}\".format(self.isim,self.maas,self.unvan,self.kisi_sayisi))\n",
    "    \n",
    "        "
   ]
  },
  {
   "cell_type": "code",
   "execution_count": 86,
   "metadata": {},
   "outputs": [],
   "source": [
    "yonetici = Mudur(\"sefa\",10000,\"Müdür\",15)"
   ]
  },
  {
   "cell_type": "code",
   "execution_count": 87,
   "metadata": {},
   "outputs": [
    {
     "data": {
      "text/plain": [
       "10000"
      ]
     },
     "execution_count": 87,
     "metadata": {},
     "output_type": "execute_result"
    }
   ],
   "source": [
    "yonetici.maas"
   ]
  },
  {
   "cell_type": "code",
   "execution_count": 88,
   "metadata": {},
   "outputs": [],
   "source": [
    "yonetici.zam_yap(1000)"
   ]
  },
  {
   "cell_type": "code",
   "execution_count": 89,
   "metadata": {},
   "outputs": [
    {
     "data": {
      "text/plain": [
       "11000"
      ]
     },
     "execution_count": 89,
     "metadata": {},
     "output_type": "execute_result"
    }
   ],
   "source": [
    "yonetici.maas"
   ]
  },
  {
   "cell_type": "code",
   "execution_count": 90,
   "metadata": {},
   "outputs": [],
   "source": [
    "yonetici.maas = 111111111"
   ]
  },
  {
   "cell_type": "code",
   "execution_count": 91,
   "metadata": {},
   "outputs": [
    {
     "data": {
      "text/plain": [
       "111111111"
      ]
     },
     "execution_count": 91,
     "metadata": {},
     "output_type": "execute_result"
    }
   ],
   "source": [
    "yonetici.maas"
   ]
  },
  {
   "cell_type": "code",
   "execution_count": null,
   "metadata": {},
   "outputs": [],
   "source": []
  },
  {
   "cell_type": "code",
   "execution_count": null,
   "metadata": {},
   "outputs": [],
   "source": []
  },
  {
   "cell_type": "code",
   "execution_count": null,
   "metadata": {},
   "outputs": [],
   "source": []
  },
  {
   "cell_type": "markdown",
   "metadata": {},
   "source": [
    "## Abstraction (Soyutlama)"
   ]
  },
  {
   "attachments": {
    "Ep7Y-FoWwAE9fVC.png": {
     "image/png": "[encoded data removed]"
    }
   },
   "cell_type": "markdown",
   "metadata": {},
   "source": [
    "![Ep7Y-FoWwAE9fVC.png](attachment:Ep7Y-FoWwAE9fVC.png)"
   ]
  },
  {
   "cell_type": "code",
   "execution_count": null,
   "metadata": {},
   "outputs": [],
   "source": []
  }
 ],
 "metadata": {
  "kernelspec": {
   "display_name": "Python 3",
   "language": "python",
   "name": "python3"
  },
  "language_info": {
   "codemirror_mode": {
    "name": "ipython",
    "version": 3
   },
   "file_extension": ".py",
   "mimetype": "text/x-python",
   "name": "python",
   "nbconvert_exporter": "python",
   "pygments_lexer": "ipython3",
   "version": "3.7.6"
  }
 },
 "nbformat": 4,
 "nbformat_minor": 4
}
